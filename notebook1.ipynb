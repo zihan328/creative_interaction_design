{
 "cells": [
  {
   "cell_type": "code",
   "execution_count": 2,
   "id": "3811322a-bf9d-416b-8a1d-dcbff82d3e93",
   "metadata": {},
   "outputs": [
    {
     "name": "stdout",
     "output_type": "stream",
     "text": [
      "(1, 1, 32, 2, 'cuc')\n",
      "(1, 1, 32, 'cuc')\n"
     ]
    }
   ],
   "source": [
    "tuple1=(1,1,32,2,'cuc')\n",
    "print(tuple1)\n",
    "list1=(1,1,32,'cuc')\n",
    "print(list1)"
   ]
  },
  {
   "cell_type": "code",
   "execution_count": 3,
   "id": "bd984f04-2735-4088-96ad-067faf47b12d",
   "metadata": {},
   "outputs": [
    {
     "name": "stdout",
     "output_type": "stream",
     "text": [
      "[1, 2, 3, 4, 5]\n"
     ]
    }
   ],
   "source": [
    "myList=(1,2,3,5,4)\n",
    "print(sorted(myList))"
   ]
  },
  {
   "cell_type": "code",
   "execution_count": 4,
   "id": "a7330ba4-e14b-49f1-8dcc-30e24d6fb0d5",
   "metadata": {},
   "outputs": [
    {
     "name": "stdout",
     "output_type": "stream",
     "text": [
      "[100, 95, 85, 60, 65, 70]\n",
      "60\n",
      "[100, 95, 85, 60, 65, 70, 50]\n"
     ]
    }
   ],
   "source": [
    "score_list=[100,95,85,60,65,70]\n",
    "print(score_list)\n",
    "print(score_list[3])\n",
    "score_list.append(50)\n",
    "print(score_list)"
   ]
  },
  {
   "cell_type": "code",
   "execution_count": 5,
   "id": "f9781c02-e664-4f80-a1ea-1cea512ca6db",
   "metadata": {},
   "outputs": [
    {
     "name": "stdout",
     "output_type": "stream",
     "text": [
      "[60, 65, 70]\n",
      "[100, 95, 85, 60, 65, 70]\n"
     ]
    }
   ],
   "source": [
    "del(score_list[6])\n",
    "print(score_list[3:7])\n",
    "print(score_list)\n"
   ]
  },
  {
   "cell_type": "code",
   "execution_count": 6,
   "id": "921c2882-4aa8-4b5f-8572-ee2ca374f33a",
   "metadata": {},
   "outputs": [
    {
     "name": "stdout",
     "output_type": "stream",
     "text": [
      "[100, 95, 85, 60, 65, 70, [1, 2, 3, 'I am from CUC', True]]\n"
     ]
    }
   ],
   "source": [
    "score_list.append([1,2,3,'I am from CUC',True])\n",
    "print(score_list)"
   ]
  },
  {
   "cell_type": "code",
   "execution_count": 7,
   "id": "c5e9353e-3a94-41a4-83b7-c716bc940ad5",
   "metadata": {},
   "outputs": [
    {
     "name": "stdout",
     "output_type": "stream",
     "text": [
      "[100, 95, 85, 60, 65, 70, [1, 2, 3, 'I am from CUC', True], [11, 22, 33, [44, 55, 66]]]\n"
     ]
    }
   ],
   "source": [
    "second_list=[11,22,33]\n",
    "second_list.append([44,55,66])\n",
    "score_list.append(second_list)\n",
    "print(score_list)"
   ]
  },
  {
   "cell_type": "code",
   "execution_count": 8,
   "id": "4482b584-746d-4714-bcf7-07c966d7d23e",
   "metadata": {},
   "outputs": [
    {
     "name": "stdout",
     "output_type": "stream",
     "text": [
      "[95, 85, 60, 65, 70, [1, 2, 3, 'I am from CUC', True], [11, 22, 33, [44, 55, 66]]]\n"
     ]
    }
   ],
   "source": [
    "score_list.remove(100)\n",
    "print(score_list)"
   ]
  },
  {
   "cell_type": "code",
   "execution_count": 10,
   "id": "bfc50c2e-f5bf-4e39-9971-0fec37512a2d",
   "metadata": {},
   "outputs": [
    {
     "name": "stdout",
     "output_type": "stream",
     "text": [
      "{'Peter': 80, 'David': 90, 'Mary': 100}\n",
      "dict_keys(['Peter', 'David', 'Mary'])\n",
      "dict_values([80, 90, 100])\n",
      "90\n",
      "[{'Peter': 80, 'David': 90, 'Mary': 100}]\n"
     ]
    }
   ],
   "source": [
    "dict1={'Peter':80,'David':90,'Mary':100}\n",
    "print(dict1)\n",
    "print(dict1.keys())\n",
    "print(dict1.values())\n",
    "print(dict1['David'])\n",
    "score_list=[]\n",
    "score_list.append(dict1)\n",
    "print(score_list)"
   ]
  },
  {
   "cell_type": "code",
   "execution_count": 11,
   "id": "ef1ed007-dbe0-46b1-a8b7-9a4f2f990605",
   "metadata": {},
   "outputs": [
    {
     "name": "stdout",
     "output_type": "stream",
     "text": [
      "{1, (1, 2, 3), 'Hello'}\n",
      "<class 'set'>\n"
     ]
    }
   ],
   "source": [
    "my_set={1,'Hello',(1,2,3)}\n",
    "print(my_set)\n",
    "print(type(my_set))"
   ]
  },
  {
   "cell_type": "code",
   "execution_count": 12,
   "id": "6cac9cb1-a51c-49c8-8728-33cb6d013de0",
   "metadata": {},
   "outputs": [
    {
     "name": "stdout",
     "output_type": "stream",
     "text": [
      "[{'Peter': 50, 'David': 60, 'Mary': 70}, {'Peter': 50, 'David': 70, 'Mary': 80}]\n"
     ]
    }
   ],
   "source": [
    "test1={'Peter':50,'David':60,'Mary':70}\n",
    "assignment1={'Peter':50,'David':70,'Mary':80}\n",
    "score_list=[]\n",
    "score_list.append(test1)\n",
    "score_list.append(assignment1)\n",
    "print(score_list)"
   ]
  },
  {
   "cell_type": "code",
   "execution_count": 13,
   "id": "9cb4ba02-c3b7-49b5-812f-b8a12d6694b2",
   "metadata": {},
   "outputs": [
    {
     "name": "stdout",
     "output_type": "stream",
     "text": [
      "{1, 2, 3, 4, 5}\n"
     ]
    }
   ],
   "source": [
    "my_set={1,2,2,3,4,4,5}\n",
    "print(my_set)"
   ]
  },
  {
   "cell_type": "code",
   "execution_count": 14,
   "id": "40dbc415-1aa6-44f1-8967-c24b45ffc826",
   "metadata": {},
   "outputs": [
    {
     "name": "stdout",
     "output_type": "stream",
     "text": [
      "1\n",
      "2\n",
      "3\n",
      "4\n",
      "5\n",
      "6\n",
      "7\n",
      "8\n",
      "9\n"
     ]
    }
   ],
   "source": [
    "i=1\n",
    "for i in range(1,10):\n",
    "    print(i)"
   ]
  },
  {
   "cell_type": "code",
   "execution_count": 15,
   "id": "2f41c051-7cb2-4d08-b652-706cf314a98f",
   "metadata": {},
   "outputs": [
    {
     "name": "stdout",
     "output_type": "stream",
     "text": [
      "Johnmakes1950.\n",
      "Mikemakes3000.\n",
      "Marymakes3250.\n",
      "Janemakes4500.\n"
     ]
    }
   ],
   "source": [
    "hrs_list=[30,40,50,60]\n",
    "rate_list=[65,75,65,75]\n",
    "name_list=['John','Mike','Mary','Jane']\n",
    "fee_list=[]\n",
    "for number in range(len(name_list)):\n",
    "    hrs=hrs_list[number]\n",
    "    rate=rate_list[number]\n",
    "    fee=hrs*rate\n",
    "    fee_list.append(fee)\n",
    "    money_made=name_list[number]+'makes'+str(fee)+'.'\n",
    "    print(money_made)"
   ]
  },
  {
   "cell_type": "code",
   "execution_count": 16,
   "id": "6955d0f8-3b4a-4ab2-8351-57494d278e38",
   "metadata": {},
   "outputs": [
    {
     "name": "stdout",
     "output_type": "stream",
     "text": [
      "[['John', 'Mike', 'Mary', 'Jane'], [1950, 3000, 3250, 4500]]\n"
     ]
    }
   ],
   "source": [
    "money_list=[]\n",
    "money_list.append(name_list)\n",
    "money_list.append(fee_list)\n",
    "print(money_list)"
   ]
  },
  {
   "cell_type": "code",
   "execution_count": 17,
   "id": "d2651e7c-5885-4a65-896b-4e795c1066be",
   "metadata": {},
   "outputs": [
    {
     "name": "stdout",
     "output_type": "stream",
     "text": [
      "0 red\n",
      "1 green\n",
      "2 Blue is printed.\n",
      "3 orange\n",
      "4 black\n",
      "This is done.\n"
     ]
    }
   ],
   "source": [
    "my_list=['red','green','blue','orange','black']\n",
    "index=0\n",
    "for i in my_list:\n",
    "    if i=='blue':\n",
    "        print(index,'Blue is printed.')\n",
    "        index+=1\n",
    "    else:\n",
    "        print(index,my_list[index])\n",
    "        index=index+1\n",
    "print('This is done.')"
   ]
  },
  {
   "cell_type": "code",
   "execution_count": 18,
   "id": "2fa65c6e-c6e0-4a0d-a441-beac8fe7abd5",
   "metadata": {},
   "outputs": [
    {
     "name": "stdout",
     "output_type": "stream",
     "text": [
      "   Product ID Product Name   Color  Units sold\n",
      "0           1      T-shirt    Blue         250\n",
      "1           2        Shirt   Green         300\n",
      "2           3        Jeans     Red         180\n",
      "3           4         Coat  Trench         200\n"
     ]
    }
   ],
   "source": [
    "import pandas as pd\n",
    "df1=pd.DataFrame({\n",
    "    'Product ID':[1,2,3,4],\n",
    "    'Product Name':['T-shirt','Shirt','Jeans','Coat'],\n",
    "    'Color':['Blue','Green','Red','Trench'],\n",
    "    'Units sold':[250,300,180,200]\n",
    "})\n",
    "print(df1)"
   ]
  },
  {
   "cell_type": "code",
   "execution_count": null,
   "id": "1774c5f7-e220-4056-b973-b3ce6acd5fed",
   "metadata": {},
   "outputs": [],
   "source": []
  }
 ],
 "metadata": {
  "kernelspec": {
   "display_name": "Python 3 (ipykernel)",
   "language": "python",
   "name": "python3"
  },
  "language_info": {
   "codemirror_mode": {
    "name": "ipython",
    "version": 3
   },
   "file_extension": ".py",
   "mimetype": "text/x-python",
   "name": "python",
   "nbconvert_exporter": "python",
   "pygments_lexer": "ipython3",
   "version": "3.11.7"
  }
 },
 "nbformat": 4,
 "nbformat_minor": 5
}
